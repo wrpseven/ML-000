{
 "cells": [
  {
   "cell_type": "code",
   "execution_count": 1,
   "metadata": {},
   "outputs": [],
   "source": [
    "#coding=utf-8\n",
    "import sys\n",
    "import os\n",
    "import copy\n",
    "from fdm_utils.common import debug_line\n",
    "from fdm_utils.common import get_tb_info"
   ]
  },
  {
   "cell_type": "markdown",
   "metadata": {},
   "source": [
    "# <font color=blue size=72>一、python基础语法</font> "
   ]
  },
  {
   "cell_type": "markdown",
   "metadata": {},
   "source": [
    "## <font color=blue>1.1 列表</font> "
   ]
  },
  {
   "cell_type": "code",
   "execution_count": 2,
   "metadata": {},
   "outputs": [
    {
     "name": "stdout",
     "output_type": "stream",
     "text": [
      "aaa: [1, 'hello']\n",
      "i== 0 1\n",
      "i== 1 hello\n",
      "aaa: [222, 1, 'hello']\n",
      "\t\t\t\t\t\t\t\t\t\t\t\t\t\t\t\t\t\t\t\t\t\t\t\t\t\t\t\t\t\t\n",
      "************************************************************\n",
      "aaa== [222, 1, 'hello']\n",
      "bbb== [3, 4, 5]\n",
      "ccc== [222, 1, 'hello', 3, 4, 5]\n",
      "\t\t\t\t\t\t\t\t\t\t\t\t\t\t\t\t\t\t\t\t\t\t\t\t\t\t\t\t\t\t\n",
      "************************************************************\n",
      "ccc== {'key1': 1, 'key2': 2, 'key3': 3}\n",
      "\t\t\t\t\t\t\t\t\t\t\t\t\t\t\t\t\t\t\t\t\t\t\t\t\t\t\t\t\t\t\n",
      "************************************************************\n",
      "aaa   == [1, 2, 3, 4, 5]\n",
      "aaa[0]== 1\n",
      "aaa[0:2] [1, 2]\n",
      "aaa[1:] [2, 3, 4, 5]\n",
      "aaa[-1] 5\n",
      "aaa[-2] 4\n",
      "\t\t\t\t\t\t\t\t\t\t\t\t\t\t\t\t\t\t\t\t\t\t\t\t\t\t\t\t\t\t\n",
      "************************************************************\n",
      "aaa== [1, 3, 2, 4, 6, 2]\n",
      "aaa== [1, 2, 2, 3, 4, 6]\n",
      "\t\t\t\t\t\t\t\t\t\t\t\t\t\t\t\t\t\t\t\t\t\t\t\t\t\t\t\t\t\t\n",
      "************************************************************\n"
     ]
    },
    {
     "data": {
      "text/plain": [
       "0"
      ]
     },
     "execution_count": 2,
     "metadata": {},
     "output_type": "execute_result"
    }
   ],
   "source": [
    "aaa = []\n",
    "aaa.append(1)\n",
    "aaa.append(\"hello\")\n",
    "print(\"aaa:\",aaa)\n",
    "for i,element in enumerate(aaa):\n",
    "    print(\"i==\",i,element)\n",
    "aaa.insert(0,222)\n",
    "print(\"aaa:\",aaa)\n",
    "debug_line()\n",
    "\n",
    "\n",
    "bbb = [3,4,5]\n",
    "ccc = copy.deepcopy(aaa)\n",
    "ccc.extend(bbb)\n",
    "print(\"aaa==\",aaa)\n",
    "print(\"bbb==\",bbb)\n",
    "print(\"ccc==\",ccc)\n",
    "debug_line()\n",
    "\n",
    "\n",
    "aaa = [\"key1\",\"key2\",\"key3\"]\n",
    "bbb = [1,2,3]\n",
    "ccc = dict(zip(aaa,bbb))\n",
    "print(\"ccc==\",ccc)\n",
    "debug_line()\n",
    "\n",
    "aaa = [1,2,3,4,5]\n",
    "print(\"aaa   ==\",aaa)\n",
    "print(\"aaa[0]==\",aaa[0])\n",
    "print(\"aaa[0:2]\",aaa[0:2])\n",
    "print(\"aaa[1:]\",aaa[1:])\n",
    "print(\"aaa[-1]\",aaa[-1])\n",
    "print(\"aaa[-2]\",aaa[-2])\n",
    "debug_line()\n",
    "\n",
    "\n",
    "aaa = [1,3,2,4,6,2]\n",
    "print(\"aaa==\",aaa)\n",
    "print(\"aaa==\",sorted(aaa))\n",
    "debug_line()\n"
   ]
  },
  {
   "cell_type": "markdown",
   "metadata": {},
   "source": [
    "## <font color=blue>1.2 set</font> "
   ]
  },
  {
   "cell_type": "code",
   "execution_count": 3,
   "metadata": {},
   "outputs": [
    {
     "name": "stdout",
     "output_type": "stream",
     "text": [
      "aaa== {1, 2, 3} <class 'set'>\n",
      "bbb== {1, 2, 3} <class 'set'>\n",
      "bbb== {1, 2, 3, 4} <class 'set'>\n",
      "bbb== {1, 2, 3, 4, 5} <class 'set'>\n",
      "bbb== {1, 2, 4, 5} <class 'set'>\n",
      "ccc== [1, 2, 4, 5] <class 'list'>\n"
     ]
    }
   ],
   "source": [
    "aaa = {1,2,3}\n",
    "bbb = {1,2,2,2,3,3,3,3}\n",
    "print(\"aaa==\",aaa,type(aaa))\n",
    "print(\"bbb==\",bbb,type(bbb))\n",
    "bbb.add(1)\n",
    "bbb.add(4)\n",
    "print(\"bbb==\",bbb,type(bbb))\n",
    "bbb.update([1,2,3,4,5])\n",
    "print(\"bbb==\",bbb,type(bbb))\n",
    "bbb.remove(3)\n",
    "print(\"bbb==\",bbb,type(bbb))\n",
    "ccc = list(bbb)\n",
    "print(\"ccc==\",ccc,type(ccc))"
   ]
  },
  {
   "cell_type": "code",
   "execution_count": 4,
   "metadata": {},
   "outputs": [
    {
     "name": "stdout",
     "output_type": "stream",
     "text": [
      "set_a:: {1, 2, 3}\n",
      "set_b:: {3, 4, 5}\n"
     ]
    }
   ],
   "source": [
    "set_a = {1,2,3}\n",
    "set_b = {3,4,5}\n",
    "print(\"set_a::\",set_a)\n",
    "print(\"set_b::\",set_b)"
   ]
  },
  {
   "cell_type": "code",
   "execution_count": 5,
   "metadata": {},
   "outputs": [
    {
     "name": "stdout",
     "output_type": "stream",
     "text": [
      "{1, 2, 3, 4, 5}\n",
      "{1, 2}\n",
      "{4, 5}\n",
      "{1, 2, 3, 4, 5}\n",
      "{3}\n",
      "{1, 2, 4, 5}\n"
     ]
    }
   ],
   "source": [
    "print(set_a|set_b)  ##并集\n",
    "print(set_a - set_b) ##set_a去除交集\n",
    "print(set_b - set_a) ##set_b去除交集\n",
    "print(set_a.union(set_b)) ##并集\n",
    "print(set_a.intersection(set_b)) ##交集\n",
    "print(set_a^set_b) ##去除交集后的元素"
   ]
  },
  {
   "cell_type": "markdown",
   "metadata": {},
   "source": [
    "## <font color=blue>1.3 字典</font> "
   ]
  },
  {
   "cell_type": "code",
   "execution_count": 6,
   "metadata": {},
   "outputs": [
    {
     "name": "stdout",
     "output_type": "stream",
     "text": [
      "aaa== {'key1': 'value1', 'key2': 'value2'}\n",
      "key== key1 value1\n",
      "key== key2 value2\n",
      "key== key1 value1\n",
      "key== key2 value2\n",
      "\t\t\t\t\t\t\t\t\t\t\t\t\t\t\t\t\t\t\t\t\t\t\t\t\t\t\t\t\t\t\n",
      "************************************************************\n",
      "k==a,v==A\n",
      "k==b,v==B\n",
      "k==c,v==C\n",
      "k==2,v==2\n",
      "k==1,v==1\n",
      "aaa==bbb False\n",
      "\t\t\t\t\t\t\t\t\t\t\t\t\t\t\t\t\t\t\t\t\t\t\t\t\t\t\t\t\t\t\n",
      "************************************************************\n",
      "i== 0 ('key4', 5)\n",
      "i== 1 ('key3', 4)\n",
      "i== 2 ('key1', 3)\n",
      "i== 3 ('key2', 2)\n",
      "\t\t\t\t\t\t\t\t\t\t\t\t\t\t\t\t\t\t\t\t\t\t\t\t\t\t\t\t\t\t\n",
      "************************************************************\n",
      "before.aaa== {'key1': 'value1', 'key2': 'value2'}\n",
      "before.bbb== {'newkey1': 'newvalue1', 'newkey2': 'newvalue2'}\n",
      "after.aaa== {'key1': 'value1', 'key2': 'value2', 'newkey1': 'newvalue1', 'newkey2': 'newvalue2'}\n"
     ]
    }
   ],
   "source": [
    "##完成【字典定义 | 字典遍历】\n",
    "aaa = {}\n",
    "aaa[\"key1\"] = \"value1\"\n",
    "aaa[\"key2\"] = \"value2\"\n",
    "print(\"aaa==\",aaa)\n",
    "for key in aaa.keys():\n",
    "    print(\"key==\",key,aaa[key])\n",
    "for k,v in aaa.items():\n",
    "    print(\"key==\",k,v)\n",
    "debug_line()\n",
    "\n",
    "\n",
    "##完成【collections.OrderedDict】\n",
    "import collections\n",
    "aaa = collections.OrderedDict()\n",
    "aaa['a'] = 'A'\n",
    "aaa['b'] = 'B'\n",
    "aaa['c'] = 'C'\n",
    "aaa['2'] = '2'\n",
    "aaa['1'] = '1'\n",
    "for k,v in aaa.items():\n",
    "    print(f\"k=={k},v=={v}\")\n",
    "\n",
    "\n",
    "bbb = collections.OrderedDict()\n",
    "bbb['c'] = 'C'\n",
    "bbb['a'] = 'A'\n",
    "bbb['b'] = 'B'\n",
    "bbb['2'] = '2'\n",
    "bbb['1'] = '1'\n",
    "print(\"aaa==bbb\",aaa==bbb)\n",
    "debug_line()\n",
    "\n",
    "\n",
    "##完成【字典排序】\n",
    "aaa = {}\n",
    "aaa[\"key1\"] = 3\n",
    "aaa[\"key2\"] = 2\n",
    "aaa[\"key3\"] = 4\n",
    "aaa[\"key4\"] = 5\n",
    "sortlist = sorted(aaa.items(),key=lambda d:d[1],reverse=True)\n",
    "for i,element in enumerate(sortlist):\n",
    "    print(\"i==\",i,element)\n",
    "debug_line()\n",
    "\n",
    "\n",
    "##完成【字典添加元素】\n",
    "aaa = {}\n",
    "aaa[\"key1\"] = \"value1\"\n",
    "aaa[\"key2\"] = \"value2\"\n",
    "print(\"before.aaa==\",aaa)\n",
    "bbb = {}\n",
    "bbb[\"newkey1\"] = \"newvalue1\"\n",
    "bbb[\"newkey2\"] = \"newvalue2\"\n",
    "print(\"before.bbb==\",bbb)\n",
    "aaa.update(bbb)\n",
    "print(\"after.aaa==\",aaa)"
   ]
  },
  {
   "cell_type": "markdown",
   "metadata": {},
   "source": [
    "## <font color=blue>1.4 拷贝</font> "
   ]
  },
  {
   "cell_type": "code",
   "execution_count": 7,
   "metadata": {},
   "outputs": [],
   "source": [
    "class student(object):\n",
    "    def __init__(self,namelist=[]):\n",
    "        self.m_namelist = namelist\n",
    "    def add(self,name):\n",
    "        self.m_namelist.append(name)"
   ]
  },
  {
   "cell_type": "code",
   "execution_count": 8,
   "metadata": {},
   "outputs": [
    {
     "name": "stdout",
     "output_type": "stream",
     "text": [
      "aaa:: ['zhangsan']\n",
      "\t\t\t\t\t\t\t\t\t\t\t\t\t\t\t\t\t\t\t\t\t\t\t\t\t\t\t\t\t\t\n",
      "************************************************************\n",
      "bbb:: ['zhangsan', 'lisi']\n",
      "\t\t\t\t\t\t\t\t\t\t\t\t\t\t\t\t\t\t\t\t\t\t\t\t\t\t\t\t\t\t\n",
      "************************************************************\n",
      "ccc:: ['zhangsan', 'lisi', 'wangwu']\n",
      "\t\t\t\t\t\t\t\t\t\t\t\t\t\t\t\t\t\t\t\t\t\t\t\t\t\t\t\t\t\t\n",
      "************************************************************\n"
     ]
    },
    {
     "data": {
      "text/plain": [
       "0"
      ]
     },
     "execution_count": 8,
     "metadata": {},
     "output_type": "execute_result"
    }
   ],
   "source": [
    "aaa = student()\n",
    "aaa.add(\"zhangsan\")\n",
    "print(\"aaa::\",aaa.m_namelist)\n",
    "debug_line()\n",
    "\n",
    "bbb = student()\n",
    "bbb.add(\"lisi\")\n",
    "print(\"bbb::\",bbb.m_namelist)\n",
    "debug_line()\n",
    "\n",
    "ccc = student()\n",
    "ccc.add(\"wangwu\")\n",
    "print(\"ccc::\",ccc.m_namelist)\n",
    "debug_line()"
   ]
  },
  {
   "cell_type": "code",
   "execution_count": 9,
   "metadata": {},
   "outputs": [],
   "source": [
    "class studentNew(object):\n",
    "    def __init__(self,namelist=None):\n",
    "        self.m_namelist = []\n",
    "    def add(self,name):\n",
    "        self.m_namelist.append(name)"
   ]
  },
  {
   "cell_type": "code",
   "execution_count": 10,
   "metadata": {},
   "outputs": [
    {
     "name": "stdout",
     "output_type": "stream",
     "text": [
      "aaa:: ['zhangsan']\n",
      "\t\t\t\t\t\t\t\t\t\t\t\t\t\t\t\t\t\t\t\t\t\t\t\t\t\t\t\t\t\t\n",
      "************************************************************\n",
      "bbb:: ['lisi']\n",
      "\t\t\t\t\t\t\t\t\t\t\t\t\t\t\t\t\t\t\t\t\t\t\t\t\t\t\t\t\t\t\n",
      "************************************************************\n",
      "ccc:: ['wangwu']\n",
      "\t\t\t\t\t\t\t\t\t\t\t\t\t\t\t\t\t\t\t\t\t\t\t\t\t\t\t\t\t\t\n",
      "************************************************************\n"
     ]
    },
    {
     "data": {
      "text/plain": [
       "0"
      ]
     },
     "execution_count": 10,
     "metadata": {},
     "output_type": "execute_result"
    }
   ],
   "source": [
    "aaa = studentNew()\n",
    "aaa.add(\"zhangsan\")\n",
    "print(\"aaa::\",aaa.m_namelist)\n",
    "debug_line()\n",
    "\n",
    "bbb = studentNew()\n",
    "bbb.add(\"lisi\")\n",
    "print(\"bbb::\",bbb.m_namelist)\n",
    "debug_line()\n",
    "\n",
    "ccc = studentNew()\n",
    "ccc.add(\"wangwu\")\n",
    "print(\"ccc::\",ccc.m_namelist)\n",
    "debug_line()"
   ]
  },
  {
   "cell_type": "markdown",
   "metadata": {},
   "source": [
    "## <font color=blue>1.5 args和kwargs</font> "
   ]
  },
  {
   "cell_type": "code",
   "execution_count": 11,
   "metadata": {},
   "outputs": [
    {
     "name": "stdout",
     "output_type": "stream",
     "text": [
      "args== range(1, 10)\n",
      "sumv== 6\n",
      "sumv== 10\n",
      "sumv== 45\n",
      "\t\t\t\t\t\t\t\t\t\t\t\t\t\t\t\t\t\t\t\t\t\t\t\t\t\t\t\t\t\t\n",
      "************************************************************\n"
     ]
    },
    {
     "data": {
      "text/plain": [
       "0"
      ]
     },
     "execution_count": 11,
     "metadata": {},
     "output_type": "execute_result"
    }
   ],
   "source": [
    "def func(*args):\n",
    "    sumv = 0\n",
    "    for item in args:\n",
    "        sumv += item\n",
    "    return sumv\n",
    "\n",
    "args = range(1,10)\n",
    "print(\"args==\",args)\n",
    "print(\"sumv==\",func(1,2,3))\n",
    "print(\"sumv==\",func(1,2,3,4))\n",
    "print(\"sumv==\",func(*args))\n",
    "debug_line()"
   ]
  },
  {
   "cell_type": "code",
   "execution_count": 12,
   "metadata": {},
   "outputs": [
    {
     "name": "stdout",
     "output_type": "stream",
     "text": [
      "name== noname\n",
      "{'a': 1, 'b': 2, 'c': 3}\n",
      "\t\t\t\t\t\t\t\t\t\t\t\t\t\t\t\t\t\t\t\t\t\t\t\t\t\t\t\t\t\t\n",
      "************************************************************\n",
      "name== noname\n",
      "{'key1': 'value1', 'key2': 'value2', 'key3': 'value3', 'key4': 'value4'}\n",
      "\t\t\t\t\t\t\t\t\t\t\t\t\t\t\t\t\t\t\t\t\t\t\t\t\t\t\t\t\t\t\n",
      "************************************************************\n"
     ]
    },
    {
     "data": {
      "text/plain": [
       "0"
      ]
     },
     "execution_count": 12,
     "metadata": {},
     "output_type": "execute_result"
    }
   ],
   "source": [
    "def func2(**kwargs):\n",
    "    name=kwargs.get(\"name\",\"noname\")\n",
    "    print(\"name==\",name)\n",
    "    print(kwargs)\n",
    "\n",
    "func2(a=1,b=2,c=3)\n",
    "debug_line()\n",
    "\n",
    "data_dict = {}\n",
    "data_dict[\"key1\"] = \"value1\"\n",
    "data_dict[\"key2\"] = \"value2\"\n",
    "data_dict[\"key3\"] = \"value3\"\n",
    "data_dict[\"key4\"] = \"value4\"\n",
    "func2(**data_dict)\n",
    "debug_line()"
   ]
  },
  {
   "cell_type": "markdown",
   "metadata": {},
   "source": [
    "## <font color=blue>1.6 class</font> "
   ]
  },
  {
   "cell_type": "code",
   "execution_count": 13,
   "metadata": {},
   "outputs": [],
   "source": [
    "class MyClass(object):\n",
    "    def __init__(self, x):\n",
    "        self.x = x\n",
    "    def __del__(self): # WARNING: Perhaps a very bad idea!\n",
    "        print(\"I am gone\")"
   ]
  },
  {
   "cell_type": "code",
   "execution_count": 14,
   "metadata": {},
   "outputs": [],
   "source": [
    "aaa = MyClass(1)"
   ]
  },
  {
   "cell_type": "code",
   "execution_count": 15,
   "metadata": {},
   "outputs": [
    {
     "name": "stdout",
     "output_type": "stream",
     "text": [
      "I am gone\n"
     ]
    }
   ],
   "source": [
    "del aaa"
   ]
  },
  {
   "cell_type": "code",
   "execution_count": 16,
   "metadata": {},
   "outputs": [
    {
     "ename": "NameError",
     "evalue": "name 'aaa' is not defined",
     "output_type": "error",
     "traceback": [
      "\u001b[0;31m---------------------------------------------------------------------------\u001b[0m",
      "\u001b[0;31mNameError\u001b[0m                                 Traceback (most recent call last)",
      "\u001b[0;32m<ipython-input-16-972a1a11f199>\u001b[0m in \u001b[0;36m<module>\u001b[0;34m\u001b[0m\n\u001b[0;32m----> 1\u001b[0;31m \u001b[0maaa\u001b[0m\u001b[0;34m\u001b[0m\u001b[0;34m\u001b[0m\u001b[0m\n\u001b[0m",
      "\u001b[0;31mNameError\u001b[0m: name 'aaa' is not defined"
     ]
    }
   ],
   "source": [
    "aaa"
   ]
  },
  {
   "cell_type": "markdown",
   "metadata": {},
   "source": [
    "# <font color=blue size=72>二、异常 | DataClass</font> "
   ]
  },
  {
   "cell_type": "markdown",
   "metadata": {},
   "source": [
    "## <font color=blue>2.1 异常</font> "
   ]
  },
  {
   "cell_type": "code",
   "execution_count": 17,
   "metadata": {},
   "outputs": [
    {
     "name": "stdout",
     "output_type": "stream",
     "text": [
      "Traceback (most recent call last):\n",
      "  File \"<ipython-input-17-6399736771b4>\", line 6, in func\n",
      "    dst = 1/value\n",
      "ZeroDivisionError: division by zero\n",
      "\n"
     ]
    }
   ],
   "source": [
    "def func(value):\n",
    "    msg  = \"\"\n",
    "    flag = 0\n",
    "    dst  = None\n",
    "    try:\n",
    "        dst = 1/value\n",
    "    except:\n",
    "        msg  = get_tb_info()\n",
    "        flag = -1\n",
    "        dst  = None\n",
    "    return msg,flag,dst\n",
    "\n",
    "msg,flag,dst = func(0)\n",
    "print(msg)"
   ]
  },
  {
   "cell_type": "markdown",
   "metadata": {},
   "source": [
    "## <font color=blue>2.2 lazy函数式编程，【讲了重要性，后续自己研究】</font> "
   ]
  },
  {
   "cell_type": "code",
   "execution_count": 18,
   "metadata": {},
   "outputs": [
    {
     "name": "stdout",
     "output_type": "stream",
     "text": [
      "L== [0, 1, 4, 9, 16, 25, 36, 49, 64, 81]\n",
      "L2== <generator object <genexpr> at 0x108d3fa50>\n"
     ]
    }
   ],
   "source": [
    "L = [x * x for x in range(10)]\n",
    "print(\"L==\",L)\n",
    "\n",
    "L2 = (x * x for x in range(10)) \n",
    "print(\"L2==\",L2)\n"
   ]
  },
  {
   "cell_type": "code",
   "execution_count": 19,
   "metadata": {},
   "outputs": [
    {
     "name": "stdout",
     "output_type": "stream",
     "text": [
      "4\n",
      "compute\n",
      "50.24\n"
     ]
    }
   ],
   "source": [
    "class Circle(object): \n",
    "    def __init__(self, radius): \n",
    "        self.radius = radius \n",
    "\n",
    "    @property\n",
    "    def area(self):\n",
    "        print(\"compute\")\n",
    "        return 3.14 * self.radius ** 2\n",
    "\n",
    "c = Circle(4) \n",
    "print(c.radius) \n",
    "print(c.area)"
   ]
  },
  {
   "cell_type": "code",
   "execution_count": 20,
   "metadata": {},
   "outputs": [
    {
     "name": "stdout",
     "output_type": "stream",
     "text": [
      "4\n",
      "compute\n",
      "50.24\n",
      "50.24\n",
      "50.24\n"
     ]
    }
   ],
   "source": [
    "class lazy(object): \n",
    "    def __init__(self, func): \n",
    "        self.func = func \n",
    "    def __get__(self, instance, cls): \n",
    "        val = self.func(instance) \n",
    "        setattr(instance, self.func.__name__, val) \n",
    "        return val\n",
    "\n",
    "\n",
    "class Circle(object): \n",
    "    def __init__(self, radius): \n",
    "        self.radius = radius \n",
    "\n",
    "\n",
    "    @lazy\n",
    "    def area(self): \n",
    "        print(\"compute\")\n",
    "        return 3.14 * self.radius ** 2\n",
    "\n",
    "c = Circle(4) \n",
    "print(c.radius) \n",
    "print(c.area)\n",
    "print(c.area) \n",
    "print(c.area)"
   ]
  },
  {
   "cell_type": "markdown",
   "metadata": {},
   "source": [
    "## <font color=blue>2.3 namedtuple</font> "
   ]
  },
  {
   "cell_type": "code",
   "execution_count": 21,
   "metadata": {},
   "outputs": [
    {
     "name": "stdout",
     "output_type": "stream",
     "text": [
      "aaa== Student(name='zhangsan', sex='male', score=84)\n",
      "\t\t\t\t\t\t\t\t\t\t\t\t\t\t\t\t\t\t\t\t\t\t\t\t\t\t\t\t\t\t\n",
      "************************************************************\n",
      "('name', 'sex', 'score')\n",
      "\t\t\t\t\t\t\t\t\t\t\t\t\t\t\t\t\t\t\t\t\t\t\t\t\t\t\t\t\t\t\n",
      "************************************************************\n",
      "bbb== Student(name='lisi', sex='female', score=95)\n",
      "\t\t\t\t\t\t\t\t\t\t\t\t\t\t\t\t\t\t\t\t\t\t\t\t\t\t\t\t\t\t\n",
      "************************************************************\n",
      "aaa查看属性::\n",
      "zhangsan <class 'str'>\n",
      "male <class 'str'>\n",
      "84 <class 'int'>\n",
      "\t\t\t\t\t\t\t\t\t\t\t\t\t\t\t\t\t\t\t\t\t\t\t\t\t\t\t\t\t\t\n",
      "************************************************************\n",
      "替换aaa.score\n",
      "替换后aaa== Student(name='zhangsan', sex='male', score=84)\n",
      "替换后bbb== Student(name='zhangsan', sex='male', score=100)\n",
      "\t\t\t\t\t\t\t\t\t\t\t\t\t\t\t\t\t\t\t\t\t\t\t\t\t\t\t\t\t\t\n",
      "************************************************************\n",
      "data_dict::\n",
      "OrderedDict([('name', 'zhangsan'), ('sex', 'male'), ('score', 84)])\n",
      "key== name zhangsan\n",
      "key== sex male\n",
      "key== score 84\n",
      "\t\t\t\t\t\t\t\t\t\t\t\t\t\t\t\t\t\t\t\t\t\t\t\t\t\t\t\t\t\t\n",
      "************************************************************\n"
     ]
    },
    {
     "data": {
      "text/plain": [
       "0"
      ]
     },
     "execution_count": 21,
     "metadata": {},
     "output_type": "execute_result"
    }
   ],
   "source": [
    "import collections\n",
    "Student = collections.namedtuple(\"Student\",[\"name\",\"sex\",\"score\"])\n",
    "\n",
    "aaa = Student(\"zhangsan\",\"male\",84)\n",
    "print(\"aaa==\",aaa)\n",
    "debug_line()\n",
    "\n",
    "print(aaa._fields)\n",
    "debug_line()\n",
    "\n",
    "bbb = Student._make(['lisi', 'female', 95])\n",
    "print(\"bbb==\",bbb)\n",
    "debug_line()\n",
    "\n",
    "print(\"aaa查看属性::\")\n",
    "print(aaa.name,type(aaa.name))\n",
    "print(aaa.sex,type(aaa.sex))\n",
    "print(aaa.score,type(aaa.score))\n",
    "debug_line()\n",
    "\n",
    "print(\"替换aaa.score\")\n",
    "#aaa.score = 100\n",
    "bbb = aaa._replace(score=100)\n",
    "print(\"替换后aaa==\",aaa)\n",
    "print(\"替换后bbb==\",bbb)\n",
    "debug_line()\n",
    "\n",
    "\n",
    "data_dict = aaa._asdict()\n",
    "print(\"data_dict::\")\n",
    "print(data_dict)\n",
    "for key in data_dict.keys():\n",
    "    print(\"key==\",key,data_dict[key])\n",
    "debug_line()\n"
   ]
  },
  {
   "cell_type": "markdown",
   "metadata": {},
   "source": [
    "## <font color=blue>2.4 DataClass的代码</font> "
   ]
  },
  {
   "cell_type": "code",
   "execution_count": 22,
   "metadata": {},
   "outputs": [],
   "source": [
    "from dataclasses import dataclass, field\n",
    "from typing import Optional\n",
    "\n",
    "\n",
    "@dataclass\n",
    "class MyData():\n",
    "    name : str = field(\n",
    "    default ='tom',\n",
    "    metadata={'help':\"Name of the person\"})\n",
    "    \n",
    "    age: Optional[int] = field(\n",
    "    default = None,\n",
    "    metadata={'help':\"Age of the pesson. Optional.\"})\n",
    "    \n",
    "    vip: int = field(\n",
    "    default  = 100,\n",
    "    metadata = {'help':\"会员积分\"})\n",
    "        \n",
    "    def __post_init__(self):\n",
    "        if self.vip <= 0:\n",
    "            raise Exception(\"[vip] must greater than zero\")\n",
    "    \n",
    "    @property\n",
    "    def age_type(self):\n",
    "        if self.age >= 100:\n",
    "            return 'You are old'\n",
    "        else:\n",
    "            return 'You are still young'\n",
    "     \n",
    "    def help(self, attribute_name):\n",
    "        return self.__dataclass_fields__[attribute_name].metadata['help']"
   ]
  },
  {
   "cell_type": "code",
   "execution_count": 23,
   "metadata": {},
   "outputs": [
    {
     "name": "stdout",
     "output_type": "stream",
     "text": [
      "MyData(name='jerry', age=80, vip=90)\n",
      "80\n",
      "You are still young\n",
      "name.help:: Name of the person\n",
      "age.help :: Age of the pesson. Optional.\n",
      "age.help :: 会员积分\n"
     ]
    }
   ],
   "source": [
    "my_data_obj = MyData(name='jerry', age=80, vip=90)\n",
    "print(my_data_obj)\n",
    "\n",
    "\n",
    "\n",
    "print(my_data_obj.age)\n",
    "print(my_data_obj.age_type)\n",
    "print(\"name.help::\",my_data_obj.help(\"name\"))\n",
    "print(\"age.help ::\",my_data_obj.help(\"age\"))\n",
    "print(\"age.help ::\",my_data_obj.help(\"vip\"))\n"
   ]
  },
  {
   "cell_type": "markdown",
   "metadata": {},
   "source": [
    "## <font color=blue>2.5 python的MagicFunction</font> "
   ]
  },
  {
   "cell_type": "code",
   "execution_count": 24,
   "metadata": {},
   "outputs": [],
   "source": [
    "class Vector:\n",
    "    def __init__(self, x=0, y=0):\n",
    "        self.x = x\n",
    "        self.y = y\n",
    "    \n",
    "    def __repr__(self):\n",
    "        return \"hello repr,[%d,%d]\" % (self.x,self.y)\n",
    "    \n",
    "    def __str__(self):\n",
    "        return \"hello str,[%d,%d]\" % (self.x,self.y)\n",
    "    \n",
    "    def __add__(self,other):\n",
    "        x = self.x + other.x\n",
    "        y = self.y + other.y\n",
    "        return Vector(x,y)\n",
    "\n",
    "    def __eq__(self,other):\n",
    "        if self.x==other.x and self.y==other.y:\n",
    "            return True\n",
    "        else:\n",
    "            return False"
   ]
  },
  {
   "cell_type": "code",
   "execution_count": 25,
   "metadata": {},
   "outputs": [
    {
     "name": "stdout",
     "output_type": "stream",
     "text": [
      "hello str,[1,2]\n",
      "hello str,[1,2]\n"
     ]
    },
    {
     "data": {
      "text/plain": [
       "hello repr,[1,2]"
      ]
     },
     "execution_count": 25,
     "metadata": {},
     "output_type": "execute_result"
    }
   ],
   "source": [
    "aaa = Vector(1,2)\n",
    "\n",
    "print(aaa)\n",
    "print(str(aaa))\n",
    "aaa"
   ]
  },
  {
   "cell_type": "code",
   "execution_count": 26,
   "metadata": {},
   "outputs": [
    {
     "name": "stdout",
     "output_type": "stream",
     "text": [
      "hello str,[2,4]\n",
      "True\n"
     ]
    }
   ],
   "source": [
    "aaa = Vector(1,2)\n",
    "bbb = Vector(1,2)\n",
    "print(aaa+bbb)\n",
    "print(aaa == bbb)"
   ]
  },
  {
   "cell_type": "markdown",
   "metadata": {},
   "source": [
    "# <font color=blue size=72>三、装饰器</font> "
   ]
  },
  {
   "cell_type": "markdown",
   "metadata": {},
   "source": [
    "## <font color=blue>3.1 lambda</font> "
   ]
  },
  {
   "cell_type": "code",
   "execution_count": 27,
   "metadata": {},
   "outputs": [
    {
     "name": "stdout",
     "output_type": "stream",
     "text": [
      "i== 0 ('key5', 5)\n",
      "i== 1 ('key2', 4)\n",
      "i== 2 ('key1', 3)\n",
      "i== 3 ('key3', 2)\n",
      "i== 4 ('key4', 1)\n",
      "\t\t\t\t\t\t\t\t\t\t\t\t\t\t\t\t\t\t\t\t\t\t\t\t\t\t\t\t\t\t\n",
      "************************************************************\n"
     ]
    },
    {
     "data": {
      "text/plain": [
       "0"
      ]
     },
     "execution_count": 27,
     "metadata": {},
     "output_type": "execute_result"
    }
   ],
   "source": [
    "aaa = {}\n",
    "aaa[\"key1\"] = 3\n",
    "aaa[\"key2\"] = 4\n",
    "aaa[\"key3\"] = 2\n",
    "aaa[\"key4\"] = 1\n",
    "aaa[\"key5\"] = 5\n",
    "\n",
    "sortlist = sorted(aaa.items(),key=lambda d:d[1],reverse=True)\n",
    "for i,element in enumerate(sortlist):\n",
    "    print(\"i==\",i,element)\n",
    "debug_line()"
   ]
  },
  {
   "cell_type": "markdown",
   "metadata": {},
   "source": [
    "## <font color=blue>3.2 map函数</font> "
   ]
  },
  {
   "cell_type": "code",
   "execution_count": 28,
   "metadata": {},
   "outputs": [
    {
     "name": "stdout",
     "output_type": "stream",
     "text": [
      "aaa== [1, 2, 3]\n",
      "bbb== <map object at 0x108d76150>\n",
      "bbb== [3, 4, 5]\n",
      "ccc== <map object at 0x108d76590>\n",
      "ccc== [1, 4, 9]\n"
     ]
    }
   ],
   "source": [
    "aaa = [1,2,3]\n",
    "bbb = map(lambda x:x+2,aaa)\n",
    "ccc = map(lambda x:x**2,aaa)\n",
    "print(\"aaa==\",aaa)\n",
    "print(\"bbb==\",bbb)\n",
    "print(\"bbb==\",list(bbb))\n",
    "print(\"ccc==\",ccc)\n",
    "print(\"ccc==\",list(ccc))"
   ]
  },
  {
   "cell_type": "markdown",
   "metadata": {},
   "source": [
    "## <font color=blue>3.3 reduce函数</font> "
   ]
  },
  {
   "cell_type": "code",
   "execution_count": 29,
   "metadata": {},
   "outputs": [
    {
     "name": "stdout",
     "output_type": "stream",
     "text": [
      "aaa== [1, 2, 3, 4]\n",
      "dst== 10\n",
      "\t\t\t\t\t\t\t\t\t\t\t\t\t\t\t\t\t\t\t\t\t\t\t\t\t\t\t\t\t\t\n",
      "************************************************************\n",
      "bbb== [3, 4]\n",
      "\t\t\t\t\t\t\t\t\t\t\t\t\t\t\t\t\t\t\t\t\t\t\t\t\t\t\t\t\t\t\n",
      "************************************************************\n",
      "ccc== [4, 5, 6, 7]\n",
      "\t\t\t\t\t\t\t\t\t\t\t\t\t\t\t\t\t\t\t\t\t\t\t\t\t\t\t\t\t\t\n",
      "************************************************************\n",
      "ddd== 18\n",
      "eee== [4, 6, 8]\n"
     ]
    }
   ],
   "source": [
    "from functools import reduce\n",
    "\n",
    "aaa = [1,2,3,4]\n",
    "dst = reduce(lambda x, y: x+y, aaa)\n",
    "print(\"aaa==\",aaa)\n",
    "print(\"dst==\",dst)\n",
    "debug_line()\n",
    "\n",
    "\n",
    "bbb = filter(lambda x:x>2,aaa)\n",
    "print(\"bbb==\",list(bbb))\n",
    "debug_line()\n",
    "\n",
    "ccc = map(lambda x:x+3,aaa)\n",
    "print(\"ccc==\",list(ccc))\n",
    "debug_line()\n",
    "\n",
    "\n",
    "ddd = reduce(lambda x,y:x+y, filter(lambda x:x>3, map(lambda x:x*2,aaa)))\n",
    "print(\"ddd==\",ddd)\n",
    "eee = filter(lambda x:x>3, map(lambda x:x*2,aaa))\n",
    "print(\"eee==\",list(eee))"
   ]
  },
  {
   "cell_type": "markdown",
   "metadata": {},
   "source": [
    "## <font color=blue>3.4 装饰器代码</font> "
   ]
  },
  {
   "cell_type": "code",
   "execution_count": 30,
   "metadata": {},
   "outputs": [
    {
     "name": "stdout",
     "output_type": "stream",
     "text": [
      "1.0\n",
      "0.0\n",
      "\t\t\t\t\t\t\t\t\t\t\t\t\t\t\t\t\t\t\t\t\t\t\t\t\t\t\t\t\t\t\n",
      "************************************************************\n",
      "1.0\n",
      "0.0\n"
     ]
    }
   ],
   "source": [
    "import numpy as np\n",
    "\n",
    "def my_decorator(func):\n",
    "    def my_decorator_impl(x):\n",
    "        result = x if x>0 else 0\n",
    "        return func(result)\n",
    "    return my_decorator_impl\n",
    "\n",
    "@my_decorator\n",
    "def myfunc(x):\n",
    "    return np.sqrt(x)\n",
    "\n",
    "print(myfunc(1.0))\n",
    "print(myfunc(-1))\n",
    "debug_line()\n",
    "\n",
    "\n",
    "\n",
    "new_func = my_decorator(myfunc)\n",
    "print(new_func(1.0))\n",
    "print(new_func(-1))"
   ]
  },
  {
   "cell_type": "code",
   "execution_count": 31,
   "metadata": {},
   "outputs": [
    {
     "name": "stdout",
     "output_type": "stream",
     "text": [
      "9\n",
      "4\n"
     ]
    }
   ],
   "source": [
    "from functools import partial\n",
    "def decor_impl(fun, argument):\n",
    "    def impl(x):\n",
    "        result = x if x > argument else argument\n",
    "        return fun(result)\n",
    "    return impl\n",
    "\n",
    "decor = partial(decor_impl, argument = 2)\n",
    "\n",
    "@decor\n",
    "def myfunc(x):\n",
    "    return x**2\n",
    "\n",
    "print(myfunc(3))\n",
    "print(myfunc(1))"
   ]
  },
  {
   "cell_type": "code",
   "execution_count": 32,
   "metadata": {},
   "outputs": [
    {
     "name": "stdout",
     "output_type": "stream",
     "text": [
      "args  == (3, 4)\n",
      "kwargs== {}\n",
      "8.5\n"
     ]
    }
   ],
   "source": [
    "##unfix\n",
    "##这段代码没研究明白，为啥ccc没有传递过来\n",
    "def mydecor(func):\n",
    "    def mydecor_reduce(*args,**kwargs):\n",
    "        print(\"args  ==\",args)\n",
    "        print(\"kwargs==\",kwargs)\n",
    "        new_args = []\n",
    "        for item in args:\n",
    "            new_args.append(item/2)\n",
    "        return func(*new_args,**kwargs)\n",
    "    return mydecor_reduce\n",
    "\n",
    "@mydecor\n",
    "def myfunc(a,b,ccc=5):\n",
    "    return a+b+ccc\n",
    "print(myfunc(3,4))"
   ]
  },
  {
   "cell_type": "code",
   "execution_count": 33,
   "metadata": {},
   "outputs": [
    {
     "data": {
      "text/plain": [
       "9"
      ]
     },
     "execution_count": 33,
     "metadata": {},
     "output_type": "execute_result"
    }
   ],
   "source": [
    "##unfix\n",
    "##这段代码没研究明白，为啥这样就可以？\n",
    "def para(dec):\n",
    "    def layer(*args, **kwargs):\n",
    "        def repl(f):\n",
    "            return dec(f, *args, **kwargs)\n",
    "        return repl\n",
    "    return layer\n",
    "\n",
    "@para\n",
    "def decor(f, n):\n",
    "    def impl(x):\n",
    "        result = x if x > n else n\n",
    "        return f(result)\n",
    "    return impl\n",
    "\n",
    "@decor(3)\n",
    "def myfunc(x):\n",
    "    return x**2\n",
    "\n",
    "myfunc(2)"
   ]
  },
  {
   "cell_type": "markdown",
   "metadata": {},
   "source": [
    "# <font color=blue size=72>四、数据处理流程</font> "
   ]
  },
  {
   "cell_type": "code",
   "execution_count": 54,
   "metadata": {},
   "outputs": [],
   "source": [
    "class Failure():\n",
    "    def __init__(self, value, failed=False):\n",
    "        self.value = value\n",
    "        self.failed = failed\n",
    "    def get(self):\n",
    "        return self.value\n",
    "    def is_failed(self):\n",
    "        return self.failed\n",
    "    def __str__(self):\n",
    "        return ' '.join([str(self.value), str(self.failed)])\n",
    "    def __or__(self, f):\n",
    "        if self.failed:\n",
    "            return self\n",
    "        try:\n",
    "            x = f(self.get())\n",
    "            return Failure(x)\n",
    "        except:\n",
    "            msg = get_tb_info()\n",
    "            print(\"f==\",f.__name__)\n",
    "            print(\"value==\",self.get(),type(self.get()))\n",
    "            return Failure(msg, True)"
   ]
  },
  {
   "cell_type": "code",
   "execution_count": 55,
   "metadata": {},
   "outputs": [
    {
     "name": "stdout",
     "output_type": "stream",
     "text": [
      "-1 False <class '__main__.Failure'>\n"
     ]
    }
   ],
   "source": [
    "from operator import neg\n",
    "x = '1'\n",
    "y = Failure(x) | int | neg | str\n",
    "print(y,type(y))"
   ]
  },
  {
   "cell_type": "code",
   "execution_count": 56,
   "metadata": {},
   "outputs": [
    {
     "name": "stdout",
     "output_type": "stream",
     "text": [
      "f== int\n",
      "value== haha <class 'str'>\n",
      "Traceback (most recent call last):\n",
      "  File \"<ipython-input-54-3235105a5b22>\", line 15, in __or__\n",
      "    x = f(self.get())\n",
      "ValueError: invalid literal for int() with base 10: 'haha'\n",
      " True <class '__main__.Failure'>\n"
     ]
    }
   ],
   "source": [
    "from operator import neg\n",
    "x = 'haha'\n",
    "y = Failure(x) | int | neg | str\n",
    "print(y,type(y))"
   ]
  },
  {
   "cell_type": "markdown",
   "metadata": {},
   "source": [
    "# <font color=blue size=72>五、R语言实验</font> "
   ]
  },
  {
   "cell_type": "code",
   "execution_count": 2,
   "metadata": {},
   "outputs": [],
   "source": [
    "##unfix\n",
    "##R语言的代码（魔法函数%，%%R调用R）\n"
   ]
  },
  {
   "cell_type": "code",
   "execution_count": 3,
   "metadata": {},
   "outputs": [
    {
     "ename": "ModuleNotFoundError",
     "evalue": "No module named 'rpy2'",
     "output_type": "error",
     "traceback": [
      "\u001b[0;31m---------------------------------------------------------------------------\u001b[0m",
      "\u001b[0;31mModuleNotFoundError\u001b[0m                       Traceback (most recent call last)",
      "\u001b[0;32m<ipython-input-3-fb23c6edefe4>\u001b[0m in \u001b[0;36m<module>\u001b[0;34m\u001b[0m\n\u001b[0;32m----> 1\u001b[0;31m \u001b[0mget_ipython\u001b[0m\u001b[0;34m(\u001b[0m\u001b[0;34m)\u001b[0m\u001b[0;34m.\u001b[0m\u001b[0mrun_line_magic\u001b[0m\u001b[0;34m(\u001b[0m\u001b[0;34m'load_ext'\u001b[0m\u001b[0;34m,\u001b[0m \u001b[0;34m'rpy2.ipython'\u001b[0m\u001b[0;34m)\u001b[0m\u001b[0;34m\u001b[0m\u001b[0;34m\u001b[0m\u001b[0m\n\u001b[0m",
      "\u001b[0;32m~/software/anaconda/envs/python37/lib/python3.7/site-packages/IPython/core/interactiveshell.py\u001b[0m in \u001b[0;36mrun_line_magic\u001b[0;34m(self, magic_name, line, _stack_depth)\u001b[0m\n\u001b[1;32m   2325\u001b[0m                 \u001b[0mkwargs\u001b[0m\u001b[0;34m[\u001b[0m\u001b[0;34m'local_ns'\u001b[0m\u001b[0;34m]\u001b[0m \u001b[0;34m=\u001b[0m \u001b[0mself\u001b[0m\u001b[0;34m.\u001b[0m\u001b[0mget_local_scope\u001b[0m\u001b[0;34m(\u001b[0m\u001b[0mstack_depth\u001b[0m\u001b[0;34m)\u001b[0m\u001b[0;34m\u001b[0m\u001b[0;34m\u001b[0m\u001b[0m\n\u001b[1;32m   2326\u001b[0m             \u001b[0;32mwith\u001b[0m \u001b[0mself\u001b[0m\u001b[0;34m.\u001b[0m\u001b[0mbuiltin_trap\u001b[0m\u001b[0;34m:\u001b[0m\u001b[0;34m\u001b[0m\u001b[0;34m\u001b[0m\u001b[0m\n\u001b[0;32m-> 2327\u001b[0;31m                 \u001b[0mresult\u001b[0m \u001b[0;34m=\u001b[0m \u001b[0mfn\u001b[0m\u001b[0;34m(\u001b[0m\u001b[0;34m*\u001b[0m\u001b[0margs\u001b[0m\u001b[0;34m,\u001b[0m \u001b[0;34m**\u001b[0m\u001b[0mkwargs\u001b[0m\u001b[0;34m)\u001b[0m\u001b[0;34m\u001b[0m\u001b[0;34m\u001b[0m\u001b[0m\n\u001b[0m\u001b[1;32m   2328\u001b[0m             \u001b[0;32mreturn\u001b[0m \u001b[0mresult\u001b[0m\u001b[0;34m\u001b[0m\u001b[0;34m\u001b[0m\u001b[0m\n\u001b[1;32m   2329\u001b[0m \u001b[0;34m\u001b[0m\u001b[0m\n",
      "\u001b[0;32m<decorator-gen-57>\u001b[0m in \u001b[0;36mload_ext\u001b[0;34m(self, module_str)\u001b[0m\n",
      "\u001b[0;32m~/software/anaconda/envs/python37/lib/python3.7/site-packages/IPython/core/magic.py\u001b[0m in \u001b[0;36m<lambda>\u001b[0;34m(f, *a, **k)\u001b[0m\n\u001b[1;32m    185\u001b[0m     \u001b[0;31m# but it's overkill for just that one bit of state.\u001b[0m\u001b[0;34m\u001b[0m\u001b[0;34m\u001b[0m\u001b[0;34m\u001b[0m\u001b[0m\n\u001b[1;32m    186\u001b[0m     \u001b[0;32mdef\u001b[0m \u001b[0mmagic_deco\u001b[0m\u001b[0;34m(\u001b[0m\u001b[0marg\u001b[0m\u001b[0;34m)\u001b[0m\u001b[0;34m:\u001b[0m\u001b[0;34m\u001b[0m\u001b[0;34m\u001b[0m\u001b[0m\n\u001b[0;32m--> 187\u001b[0;31m         \u001b[0mcall\u001b[0m \u001b[0;34m=\u001b[0m \u001b[0;32mlambda\u001b[0m \u001b[0mf\u001b[0m\u001b[0;34m,\u001b[0m \u001b[0;34m*\u001b[0m\u001b[0ma\u001b[0m\u001b[0;34m,\u001b[0m \u001b[0;34m**\u001b[0m\u001b[0mk\u001b[0m\u001b[0;34m:\u001b[0m \u001b[0mf\u001b[0m\u001b[0;34m(\u001b[0m\u001b[0;34m*\u001b[0m\u001b[0ma\u001b[0m\u001b[0;34m,\u001b[0m \u001b[0;34m**\u001b[0m\u001b[0mk\u001b[0m\u001b[0;34m)\u001b[0m\u001b[0;34m\u001b[0m\u001b[0;34m\u001b[0m\u001b[0m\n\u001b[0m\u001b[1;32m    188\u001b[0m \u001b[0;34m\u001b[0m\u001b[0m\n\u001b[1;32m    189\u001b[0m         \u001b[0;32mif\u001b[0m \u001b[0mcallable\u001b[0m\u001b[0;34m(\u001b[0m\u001b[0marg\u001b[0m\u001b[0;34m)\u001b[0m\u001b[0;34m:\u001b[0m\u001b[0;34m\u001b[0m\u001b[0;34m\u001b[0m\u001b[0m\n",
      "\u001b[0;32m~/software/anaconda/envs/python37/lib/python3.7/site-packages/IPython/core/magics/extension.py\u001b[0m in \u001b[0;36mload_ext\u001b[0;34m(self, module_str)\u001b[0m\n\u001b[1;32m     31\u001b[0m         \u001b[0;32mif\u001b[0m \u001b[0;32mnot\u001b[0m \u001b[0mmodule_str\u001b[0m\u001b[0;34m:\u001b[0m\u001b[0;34m\u001b[0m\u001b[0;34m\u001b[0m\u001b[0m\n\u001b[1;32m     32\u001b[0m             \u001b[0;32mraise\u001b[0m \u001b[0mUsageError\u001b[0m\u001b[0;34m(\u001b[0m\u001b[0;34m'Missing module name.'\u001b[0m\u001b[0;34m)\u001b[0m\u001b[0;34m\u001b[0m\u001b[0;34m\u001b[0m\u001b[0m\n\u001b[0;32m---> 33\u001b[0;31m         \u001b[0mres\u001b[0m \u001b[0;34m=\u001b[0m \u001b[0mself\u001b[0m\u001b[0;34m.\u001b[0m\u001b[0mshell\u001b[0m\u001b[0;34m.\u001b[0m\u001b[0mextension_manager\u001b[0m\u001b[0;34m.\u001b[0m\u001b[0mload_extension\u001b[0m\u001b[0;34m(\u001b[0m\u001b[0mmodule_str\u001b[0m\u001b[0;34m)\u001b[0m\u001b[0;34m\u001b[0m\u001b[0;34m\u001b[0m\u001b[0m\n\u001b[0m\u001b[1;32m     34\u001b[0m \u001b[0;34m\u001b[0m\u001b[0m\n\u001b[1;32m     35\u001b[0m         \u001b[0;32mif\u001b[0m \u001b[0mres\u001b[0m \u001b[0;34m==\u001b[0m \u001b[0;34m'already loaded'\u001b[0m\u001b[0;34m:\u001b[0m\u001b[0;34m\u001b[0m\u001b[0;34m\u001b[0m\u001b[0m\n",
      "\u001b[0;32m~/software/anaconda/envs/python37/lib/python3.7/site-packages/IPython/core/extensions.py\u001b[0m in \u001b[0;36mload_extension\u001b[0;34m(self, module_str)\u001b[0m\n\u001b[1;32m     78\u001b[0m             \u001b[0;32mif\u001b[0m \u001b[0mmodule_str\u001b[0m \u001b[0;32mnot\u001b[0m \u001b[0;32min\u001b[0m \u001b[0msys\u001b[0m\u001b[0;34m.\u001b[0m\u001b[0mmodules\u001b[0m\u001b[0;34m:\u001b[0m\u001b[0;34m\u001b[0m\u001b[0;34m\u001b[0m\u001b[0m\n\u001b[1;32m     79\u001b[0m                 \u001b[0;32mwith\u001b[0m \u001b[0mprepended_to_syspath\u001b[0m\u001b[0;34m(\u001b[0m\u001b[0mself\u001b[0m\u001b[0;34m.\u001b[0m\u001b[0mipython_extension_dir\u001b[0m\u001b[0;34m)\u001b[0m\u001b[0;34m:\u001b[0m\u001b[0;34m\u001b[0m\u001b[0;34m\u001b[0m\u001b[0m\n\u001b[0;32m---> 80\u001b[0;31m                     \u001b[0mmod\u001b[0m \u001b[0;34m=\u001b[0m \u001b[0mimport_module\u001b[0m\u001b[0;34m(\u001b[0m\u001b[0mmodule_str\u001b[0m\u001b[0;34m)\u001b[0m\u001b[0;34m\u001b[0m\u001b[0;34m\u001b[0m\u001b[0m\n\u001b[0m\u001b[1;32m     81\u001b[0m                     \u001b[0;32mif\u001b[0m \u001b[0mmod\u001b[0m\u001b[0;34m.\u001b[0m\u001b[0m__file__\u001b[0m\u001b[0;34m.\u001b[0m\u001b[0mstartswith\u001b[0m\u001b[0;34m(\u001b[0m\u001b[0mself\u001b[0m\u001b[0;34m.\u001b[0m\u001b[0mipython_extension_dir\u001b[0m\u001b[0;34m)\u001b[0m\u001b[0;34m:\u001b[0m\u001b[0;34m\u001b[0m\u001b[0;34m\u001b[0m\u001b[0m\n\u001b[1;32m     82\u001b[0m                         print((\"Loading extensions from {dir} is deprecated. \"\n",
      "\u001b[0;32m~/software/anaconda/envs/python37/lib/python3.7/importlib/__init__.py\u001b[0m in \u001b[0;36mimport_module\u001b[0;34m(name, package)\u001b[0m\n\u001b[1;32m    125\u001b[0m                 \u001b[0;32mbreak\u001b[0m\u001b[0;34m\u001b[0m\u001b[0;34m\u001b[0m\u001b[0m\n\u001b[1;32m    126\u001b[0m             \u001b[0mlevel\u001b[0m \u001b[0;34m+=\u001b[0m \u001b[0;36m1\u001b[0m\u001b[0;34m\u001b[0m\u001b[0;34m\u001b[0m\u001b[0m\n\u001b[0;32m--> 127\u001b[0;31m     \u001b[0;32mreturn\u001b[0m \u001b[0m_bootstrap\u001b[0m\u001b[0;34m.\u001b[0m\u001b[0m_gcd_import\u001b[0m\u001b[0;34m(\u001b[0m\u001b[0mname\u001b[0m\u001b[0;34m[\u001b[0m\u001b[0mlevel\u001b[0m\u001b[0;34m:\u001b[0m\u001b[0;34m]\u001b[0m\u001b[0;34m,\u001b[0m \u001b[0mpackage\u001b[0m\u001b[0;34m,\u001b[0m \u001b[0mlevel\u001b[0m\u001b[0;34m)\u001b[0m\u001b[0;34m\u001b[0m\u001b[0;34m\u001b[0m\u001b[0m\n\u001b[0m\u001b[1;32m    128\u001b[0m \u001b[0;34m\u001b[0m\u001b[0m\n\u001b[1;32m    129\u001b[0m \u001b[0;34m\u001b[0m\u001b[0m\n",
      "\u001b[0;32m~/software/anaconda/envs/python37/lib/python3.7/importlib/_bootstrap.py\u001b[0m in \u001b[0;36m_gcd_import\u001b[0;34m(name, package, level)\u001b[0m\n",
      "\u001b[0;32m~/software/anaconda/envs/python37/lib/python3.7/importlib/_bootstrap.py\u001b[0m in \u001b[0;36m_find_and_load\u001b[0;34m(name, import_)\u001b[0m\n",
      "\u001b[0;32m~/software/anaconda/envs/python37/lib/python3.7/importlib/_bootstrap.py\u001b[0m in \u001b[0;36m_find_and_load_unlocked\u001b[0;34m(name, import_)\u001b[0m\n",
      "\u001b[0;32m~/software/anaconda/envs/python37/lib/python3.7/importlib/_bootstrap.py\u001b[0m in \u001b[0;36m_call_with_frames_removed\u001b[0;34m(f, *args, **kwds)\u001b[0m\n",
      "\u001b[0;32m~/software/anaconda/envs/python37/lib/python3.7/importlib/_bootstrap.py\u001b[0m in \u001b[0;36m_gcd_import\u001b[0;34m(name, package, level)\u001b[0m\n",
      "\u001b[0;32m~/software/anaconda/envs/python37/lib/python3.7/importlib/_bootstrap.py\u001b[0m in \u001b[0;36m_find_and_load\u001b[0;34m(name, import_)\u001b[0m\n",
      "\u001b[0;32m~/software/anaconda/envs/python37/lib/python3.7/importlib/_bootstrap.py\u001b[0m in \u001b[0;36m_find_and_load_unlocked\u001b[0;34m(name, import_)\u001b[0m\n",
      "\u001b[0;31mModuleNotFoundError\u001b[0m: No module named 'rpy2'"
     ]
    }
   ],
   "source": [
    "%load_ext rpy2.ipython"
   ]
  }
 ],
 "metadata": {
  "kernelspec": {
   "display_name": "Python 3",
   "language": "python",
   "name": "python3"
  },
  "language_info": {
   "codemirror_mode": {
    "name": "ipython",
    "version": 3
   },
   "file_extension": ".py",
   "mimetype": "text/x-python",
   "name": "python",
   "nbconvert_exporter": "python",
   "pygments_lexer": "ipython3",
   "version": "3.7.9"
  }
 },
 "nbformat": 4,
 "nbformat_minor": 4
}
