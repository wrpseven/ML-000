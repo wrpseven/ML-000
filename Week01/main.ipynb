{
 "cells": [
  {
   "cell_type": "code",
   "execution_count": 20,
   "metadata": {},
   "outputs": [],
   "source": [
    "#coding=utf-8\n",
    "import sys\n",
    "import os\n",
    "import copy\n",
    "from fdm_utils.common import debug_line\n",
    "from fdm_utils.common import get_tb_info"
   ]
  },
  {
   "cell_type": "markdown",
   "metadata": {},
   "source": [
    "# <font color=blue size=72>一、python基础语法</font> "
   ]
  },
  {
   "cell_type": "markdown",
   "metadata": {},
   "source": [
    "## <font color=blue>1.1 列表</font> "
   ]
  },
  {
   "cell_type": "code",
   "execution_count": 3,
   "metadata": {},
   "outputs": [
    {
     "name": "stdout",
     "output_type": "stream",
     "text": [
      "aaa: [1, 'hello']\n",
      "i== 0 1\n",
      "i== 1 hello\n",
      "aaa: [222, 1, 'hello']\n",
      "\t\t\t\t\t\t\t\t\t\t\t\t\t\t\t\t\t\t\t\t\t\t\t\t\t\t\t\t\t\t\n",
      "************************************************************\n",
      "aaa== [222, 1, 'hello']\n",
      "bbb== [3, 4, 5]\n",
      "ccc== [222, 1, 'hello', 3, 4, 5]\n",
      "\t\t\t\t\t\t\t\t\t\t\t\t\t\t\t\t\t\t\t\t\t\t\t\t\t\t\t\t\t\t\n",
      "************************************************************\n",
      "ccc== {'key1': 1, 'key2': 2, 'key3': 3}\n",
      "\t\t\t\t\t\t\t\t\t\t\t\t\t\t\t\t\t\t\t\t\t\t\t\t\t\t\t\t\t\t\n",
      "************************************************************\n",
      "aaa   == [1, 2, 3, 4, 5]\n",
      "aaa[0]== 1\n",
      "aaa[0:2] [1, 2]\n",
      "aaa[1:] [2, 3, 4, 5]\n",
      "aaa[-1] 5\n",
      "aaa[-2] 4\n",
      "\t\t\t\t\t\t\t\t\t\t\t\t\t\t\t\t\t\t\t\t\t\t\t\t\t\t\t\t\t\t\n",
      "************************************************************\n",
      "aaa== [1, 3, 2, 4, 6, 2]\n",
      "aaa== [1, 2, 2, 3, 4, 6]\n",
      "\t\t\t\t\t\t\t\t\t\t\t\t\t\t\t\t\t\t\t\t\t\t\t\t\t\t\t\t\t\t\n",
      "************************************************************\n"
     ]
    },
    {
     "data": {
      "text/plain": [
       "0"
      ]
     },
     "execution_count": 3,
     "metadata": {},
     "output_type": "execute_result"
    }
   ],
   "source": [
    "aaa = []\n",
    "aaa.append(1)\n",
    "aaa.append(\"hello\")\n",
    "print(\"aaa:\",aaa)\n",
    "for i,element in enumerate(aaa):\n",
    "    print(\"i==\",i,element)\n",
    "aaa.insert(0,222)\n",
    "print(\"aaa:\",aaa)\n",
    "debug_line()\n",
    "\n",
    "\n",
    "bbb = [3,4,5]\n",
    "ccc = copy.deepcopy(aaa)\n",
    "ccc.extend(bbb)\n",
    "print(\"aaa==\",aaa)\n",
    "print(\"bbb==\",bbb)\n",
    "print(\"ccc==\",ccc)\n",
    "debug_line()\n",
    "\n",
    "\n",
    "aaa = [\"key1\",\"key2\",\"key3\"]\n",
    "bbb = [1,2,3]\n",
    "ccc = dict(zip(aaa,bbb))\n",
    "print(\"ccc==\",ccc)\n",
    "debug_line()\n",
    "\n",
    "aaa = [1,2,3,4,5]\n",
    "print(\"aaa   ==\",aaa)\n",
    "print(\"aaa[0]==\",aaa[0])\n",
    "print(\"aaa[0:2]\",aaa[0:2])\n",
    "print(\"aaa[1:]\",aaa[1:])\n",
    "print(\"aaa[-1]\",aaa[-1])\n",
    "print(\"aaa[-2]\",aaa[-2])\n",
    "debug_line()\n",
    "\n",
    "\n",
    "aaa = [1,3,2,4,6,2]\n",
    "print(\"aaa==\",aaa)\n",
    "print(\"aaa==\",sorted(aaa))\n",
    "debug_line()\n"
   ]
  },
  {
   "cell_type": "markdown",
   "metadata": {},
   "source": [
    "## <font color=blue>1.2 字典</font> "
   ]
  },
  {
   "cell_type": "code",
   "execution_count": 4,
   "metadata": {},
   "outputs": [
    {
     "name": "stdout",
     "output_type": "stream",
     "text": [
      "aaa== {'key1': 'value1', 'key2': 'value2'}\n",
      "key== key1 value1\n",
      "key== key2 value2\n",
      "key== key1 value1\n",
      "key== key2 value2\n",
      "\t\t\t\t\t\t\t\t\t\t\t\t\t\t\t\t\t\t\t\t\t\t\t\t\t\t\t\t\t\t\n",
      "************************************************************\n"
     ]
    },
    {
     "data": {
      "text/plain": [
       "0"
      ]
     },
     "execution_count": 4,
     "metadata": {},
     "output_type": "execute_result"
    }
   ],
   "source": [
    "aaa = {}\n",
    "aaa[\"key1\"] = \"value1\"\n",
    "aaa[\"key2\"] = \"value2\"\n",
    "print(\"aaa==\",aaa)\n",
    "for key in aaa.keys():\n",
    "    print(\"key==\",key,aaa[key])\n",
    "for k,v in aaa.items():\n",
    "    print(\"key==\",k,v)\n",
    "debug_line()\n",
    "\n",
    "\n",
    "##需要补充collections.OrderedDict\n",
    "##需要补充字典排序\n",
    "##需要补充字典添加元素"
   ]
  },
  {
   "cell_type": "markdown",
   "metadata": {},
   "source": [
    "## <font color=blue>1.3 拷贝</font> "
   ]
  },
  {
   "cell_type": "code",
   "execution_count": 5,
   "metadata": {},
   "outputs": [],
   "source": [
    "class student(object):\n",
    "    def __init__(self,namelist=[]):\n",
    "        self.m_namelist = namelist\n",
    "    def add(self,name):\n",
    "        self.m_namelist.append(name)"
   ]
  },
  {
   "cell_type": "code",
   "execution_count": 6,
   "metadata": {},
   "outputs": [
    {
     "name": "stdout",
     "output_type": "stream",
     "text": [
      "aaa:: ['zhangsan']\n",
      "\t\t\t\t\t\t\t\t\t\t\t\t\t\t\t\t\t\t\t\t\t\t\t\t\t\t\t\t\t\t\n",
      "************************************************************\n",
      "bbb:: ['zhangsan', 'lisi']\n",
      "\t\t\t\t\t\t\t\t\t\t\t\t\t\t\t\t\t\t\t\t\t\t\t\t\t\t\t\t\t\t\n",
      "************************************************************\n",
      "ccc:: ['zhangsan', 'lisi', 'wangwu']\n",
      "\t\t\t\t\t\t\t\t\t\t\t\t\t\t\t\t\t\t\t\t\t\t\t\t\t\t\t\t\t\t\n",
      "************************************************************\n"
     ]
    },
    {
     "data": {
      "text/plain": [
       "0"
      ]
     },
     "execution_count": 6,
     "metadata": {},
     "output_type": "execute_result"
    }
   ],
   "source": [
    "aaa = student()\n",
    "aaa.add(\"zhangsan\")\n",
    "print(\"aaa::\",aaa.m_namelist)\n",
    "debug_line()\n",
    "\n",
    "bbb = student()\n",
    "bbb.add(\"lisi\")\n",
    "print(\"bbb::\",bbb.m_namelist)\n",
    "debug_line()\n",
    "\n",
    "ccc = student()\n",
    "ccc.add(\"wangwu\")\n",
    "print(\"ccc::\",ccc.m_namelist)\n",
    "debug_line()"
   ]
  },
  {
   "cell_type": "code",
   "execution_count": 7,
   "metadata": {},
   "outputs": [],
   "source": [
    "class studentNew(object):\n",
    "    def __init__(self,namelist=None):\n",
    "        self.m_namelist = []\n",
    "    def add(self,name):\n",
    "        self.m_namelist.append(name)"
   ]
  },
  {
   "cell_type": "code",
   "execution_count": 8,
   "metadata": {},
   "outputs": [
    {
     "name": "stdout",
     "output_type": "stream",
     "text": [
      "aaa:: ['zhangsan']\n",
      "\t\t\t\t\t\t\t\t\t\t\t\t\t\t\t\t\t\t\t\t\t\t\t\t\t\t\t\t\t\t\n",
      "************************************************************\n",
      "bbb:: ['lisi']\n",
      "\t\t\t\t\t\t\t\t\t\t\t\t\t\t\t\t\t\t\t\t\t\t\t\t\t\t\t\t\t\t\n",
      "************************************************************\n",
      "ccc:: ['wangwu']\n",
      "\t\t\t\t\t\t\t\t\t\t\t\t\t\t\t\t\t\t\t\t\t\t\t\t\t\t\t\t\t\t\n",
      "************************************************************\n"
     ]
    },
    {
     "data": {
      "text/plain": [
       "0"
      ]
     },
     "execution_count": 8,
     "metadata": {},
     "output_type": "execute_result"
    }
   ],
   "source": [
    "aaa = studentNew()\n",
    "aaa.add(\"zhangsan\")\n",
    "print(\"aaa::\",aaa.m_namelist)\n",
    "debug_line()\n",
    "\n",
    "bbb = studentNew()\n",
    "bbb.add(\"lisi\")\n",
    "print(\"bbb::\",bbb.m_namelist)\n",
    "debug_line()\n",
    "\n",
    "ccc = studentNew()\n",
    "ccc.add(\"wangwu\")\n",
    "print(\"ccc::\",ccc.m_namelist)\n",
    "debug_line()"
   ]
  },
  {
   "cell_type": "markdown",
   "metadata": {},
   "source": [
    "## <font color=blue>1.4 args和kwargs</font> "
   ]
  },
  {
   "cell_type": "code",
   "execution_count": 18,
   "metadata": {},
   "outputs": [
    {
     "name": "stdout",
     "output_type": "stream",
     "text": [
      "sumv== 6\n",
      "sumv== 10\n",
      "\t\t\t\t\t\t\t\t\t\t\t\t\t\t\t\t\t\t\t\t\t\t\t\t\t\t\t\t\t\t\n",
      "************************************************************\n"
     ]
    },
    {
     "data": {
      "text/plain": [
       "0"
      ]
     },
     "execution_count": 18,
     "metadata": {},
     "output_type": "execute_result"
    }
   ],
   "source": [
    "def func(*args):\n",
    "    sumv = 0\n",
    "    for item in args:\n",
    "        sumv += item\n",
    "    return sumv\n",
    "\n",
    "print(\"sumv==\",func(1,2,3))\n",
    "print(\"sumv==\",func(1,2,3,4))\n",
    "debug_line()"
   ]
  },
  {
   "cell_type": "code",
   "execution_count": 17,
   "metadata": {},
   "outputs": [
    {
     "name": "stdout",
     "output_type": "stream",
     "text": [
      "name== noname\n",
      "{'a': 1, 'b': 2, 'c': 3}\n",
      "\t\t\t\t\t\t\t\t\t\t\t\t\t\t\t\t\t\t\t\t\t\t\t\t\t\t\t\t\t\t\n",
      "************************************************************\n",
      "name== noname\n",
      "{'key1': 'value1', 'key2': 'value2', 'key3': 'value3'}\n",
      "\t\t\t\t\t\t\t\t\t\t\t\t\t\t\t\t\t\t\t\t\t\t\t\t\t\t\t\t\t\t\n",
      "************************************************************\n"
     ]
    },
    {
     "data": {
      "text/plain": [
       "0"
      ]
     },
     "execution_count": 17,
     "metadata": {},
     "output_type": "execute_result"
    }
   ],
   "source": [
    "def func2(**kwargs):\n",
    "    name=kwargs.get(\"name\",\"noname\")\n",
    "    print(\"name==\",name)\n",
    "    print(kwargs)\n",
    "\n",
    "func2(a=1,b=2,c=3)\n",
    "debug_line()\n",
    "\n",
    "data_dict = {}\n",
    "data_dict[\"key1\"] = \"value1\"\n",
    "data_dict[\"key2\"] = \"value2\"\n",
    "data_dict[\"key3\"] = \"value3\"\n",
    "func2(**data_dict)\n",
    "debug_line()"
   ]
  },
  {
   "cell_type": "markdown",
   "metadata": {},
   "source": [
    "# <font color=blue size=72>二、异常 | DataClass</font> "
   ]
  },
  {
   "cell_type": "code",
   "execution_count": 27,
   "metadata": {},
   "outputs": [],
   "source": [
    "def func(value):\n",
    "    msg  = \"\"\n",
    "    flag = 0\n",
    "    dst  = None\n",
    "    try:\n",
    "        dst = 1/0\n",
    "    except:\n",
    "        msg  = get_tb_info()\n",
    "        flag = -1\n",
    "        dst  = None\n",
    "    return msg,flag,dst\n",
    "\n",
    "msg,flag,dst = func(1)"
   ]
  },
  {
   "cell_type": "code",
   "execution_count": null,
   "metadata": {},
   "outputs": [],
   "source": [
    "##unfix\n",
    "\"\"\"\n",
    "lazzy函数式编程的代码【讲了重要性，后续自己研究】\n",
    "##namedtuple的代码\n",
    "##DataClass的代码\n",
    "##python的MagicFunction\n",
    "\"\"\""
   ]
  },
  {
   "cell_type": "markdown",
   "metadata": {},
   "source": [
    "# <font color=blue size=72>三、装饰器</font> "
   ]
  },
  {
   "cell_type": "code",
   "execution_count": 28,
   "metadata": {},
   "outputs": [
    {
     "name": "stdout",
     "output_type": "stream",
     "text": [
      "hello\n"
     ]
    }
   ],
   "source": [
    "##unfix\n",
    "\"\"\"\n",
    "装饰器的代码：\n",
    "lambda、map&reduce、装饰器\n",
    "from functools import partial\n",
    "\"\"\"\n",
    "print(\"hello\")"
   ]
  },
  {
   "cell_type": "markdown",
   "metadata": {},
   "source": [
    "# <font color=blue size=72>四、数据处理流程</font> "
   ]
  },
  {
   "cell_type": "code",
   "execution_count": null,
   "metadata": {},
   "outputs": [],
   "source": [
    "##unfix\n",
    "\"\"\"\n",
    "Failure类的代码\n",
    "\"\"\""
   ]
  },
  {
   "cell_type": "markdown",
   "metadata": {},
   "source": [
    "# <font color=blue size=72>五、R语言实验</font> "
   ]
  },
  {
   "cell_type": "code",
   "execution_count": null,
   "metadata": {},
   "outputs": [],
   "source": [
    "##unfix\n",
    "\"\"\"\n",
    "R语言的代码（魔法函数%，%%R调用R）\n",
    "\"\"\""
   ]
  }
 ],
 "metadata": {
  "kernelspec": {
   "display_name": "Python 3",
   "language": "python",
   "name": "python3"
  },
  "language_info": {
   "codemirror_mode": {
    "name": "ipython",
    "version": 3
   },
   "file_extension": ".py",
   "mimetype": "text/x-python",
   "name": "python",
   "nbconvert_exporter": "python",
   "pygments_lexer": "ipython3",
   "version": "3.7.9"
  }
 },
 "nbformat": 4,
 "nbformat_minor": 4
}
