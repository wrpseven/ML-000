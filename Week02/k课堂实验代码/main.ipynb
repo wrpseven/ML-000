{
 "cells": [
  {
   "cell_type": "code",
   "execution_count": 2,
   "metadata": {},
   "outputs": [],
   "source": [
    "#coding=utf-8\n",
    "import sys\n",
    "import os\n",
    "import copy\n",
    "\n",
    "\n",
    "sys.path.insert(0, \"../\")\n",
    "from common import get_tb_info\n",
    "from common import debug_line\n",
    "\n",
    "%load_ext Cython"
   ]
  },
  {
   "cell_type": "markdown",
   "metadata": {},
   "source": [
    "# <font color=blue size=72>一、第一部分</font>"
   ]
  },
  {
   "cell_type": "markdown",
   "metadata": {},
   "source": [
    "## <font color=blue>1.1 cython的速度提升</font> "
   ]
  },
  {
   "cell_type": "code",
   "execution_count": 3,
   "metadata": {},
   "outputs": [
    {
     "name": "stdout",
     "output_type": "stream",
     "text": [
      "pmf.type <class 'numpy.ndarray'>\n"
     ]
    }
   ],
   "source": [
    "%%cython\n",
    "import numpy as np\n",
    "cimport numpy as cnp\n",
    "\n",
    "from scipy.stats import poisson\n",
    "poi = poisson(10.0)\n",
    "n = 100\n",
    "pmf = poi.pmf(np.arange(n))\n",
    "print(\"pmf.type\",type(pmf))\n",
    "\n",
    "def shannon_entropy_cy(cnp.ndarray p_x):\n",
    "    return - np.sum(p_x * np.log(p_x))\n",
    "\n",
    "def shannon_entropy_py(p_x):\n",
    "    return - np.sum(p_x * np.log(p_x))"
   ]
  },
  {
   "cell_type": "code",
   "execution_count": null,
   "metadata": {},
   "outputs": [],
   "source": [
    "%%timeit\n",
    "poi.entropy()"
   ]
  },
  {
   "cell_type": "code",
   "execution_count": null,
   "metadata": {},
   "outputs": [],
   "source": [
    "%%timeit\n",
    "shannon_entropy_py(pmf)"
   ]
  },
  {
   "cell_type": "code",
   "execution_count": null,
   "metadata": {},
   "outputs": [],
   "source": [
    "%%timeit\n",
    "shannon_entropy_cy(pmf)"
   ]
  },
  {
   "cell_type": "code",
   "execution_count": null,
   "metadata": {},
   "outputs": [],
   "source": [
    "print(poi.entropy(),\"|\", shannon_entropy_py(pmf), \"|\",shannon_entropy_cy(pmf))"
   ]
  },
  {
   "cell_type": "code",
   "execution_count": null,
   "metadata": {},
   "outputs": [],
   "source": [
    "%%cython\n",
    "\n",
    "cimport numpy as cnp\n",
    "from libc.math cimport log as clog\n",
    "\n",
    "cpdef shannon_entropy_v1(cnp.ndarray p_x):\n",
    "    cdef double res = 0.0\n",
    "    cdef int n = p_x.shape[0]\n",
    "    cdef int i\n",
    "    for i in range(n):\n",
    "        res += p_x[i] * clog(p_x[i])\n",
    "    return -res"
   ]
  },
  {
   "cell_type": "code",
   "execution_count": null,
   "metadata": {},
   "outputs": [],
   "source": [
    "%%timeit\n",
    "shannon_entropy_v1(pmf)"
   ]
  },
  {
   "cell_type": "code",
   "execution_count": null,
   "metadata": {},
   "outputs": [],
   "source": [
    "%%cython\n",
    "\n",
    "cimport numpy as cnp\n",
    "from libc.math cimport log as clog\n",
    "\n",
    "cpdef shannon_entropy_v2(cnp.ndarray[double] p_x):\n",
    "    cdef double res = 0.0\n",
    "    cdef int n = p_x.shape[0]\n",
    "    cdef int i\n",
    "    for i in range(n):\n",
    "        res += p_x[i] * clog(p_x[i])\n",
    "    return -res"
   ]
  },
  {
   "cell_type": "code",
   "execution_count": null,
   "metadata": {},
   "outputs": [],
   "source": [
    "%%timeit\n",
    "shannon_entropy_v2(pmf)"
   ]
  },
  {
   "cell_type": "code",
   "execution_count": null,
   "metadata": {},
   "outputs": [],
   "source": [
    "%%cython\n",
    "\n",
    "cimport cython\n",
    "cimport numpy as cnp\n",
    "from libc.math cimport log\n",
    "\n",
    "@cython.boundscheck(False)\n",
    "@cython.wraparound(False)\n",
    "cpdef shannon_entropy_v3(cnp.ndarray[double] p_x):\n",
    "    cdef double res = 0.0\n",
    "    cdef int n = p_x.shape[0]\n",
    "    cdef int i\n",
    "    for i in range(n):\n",
    "        res += p_x[i] * log(p_x[i])\n",
    "    return -res"
   ]
  },
  {
   "cell_type": "code",
   "execution_count": null,
   "metadata": {},
   "outputs": [],
   "source": [
    "%%timeit\n",
    "shannon_entropy_v3(pmf)"
   ]
  },
  {
   "cell_type": "code",
   "execution_count": null,
   "metadata": {},
   "outputs": [],
   "source": [
    "%%cython \n",
    "\n",
    "cimport cython\n",
    "from libc.math cimport log\n",
    "\n",
    "@cython.boundscheck(False)\n",
    "@cython.wraparound(False)\n",
    "def shannon_entropy_v4(double[::1] p_x):\n",
    "    cdef double res = 0.0\n",
    "    cdef int n = p_x.shape[0]\n",
    "    cdef int i\n",
    "    for i in range(n):\n",
    "        res += p_x[i] * log(p_x[i])\n",
    "    return -res"
   ]
  },
  {
   "cell_type": "code",
   "execution_count": null,
   "metadata": {},
   "outputs": [],
   "source": [
    "%%timeit\n",
    "shannon_entropy_v4(pmf)"
   ]
  },
  {
   "cell_type": "code",
   "execution_count": null,
   "metadata": {},
   "outputs": [],
   "source": [
    "print(poi.entropy())\n",
    "print(shannon_entropy_v1(pmf))\n",
    "print(shannon_entropy_v2(pmf))\n",
    "print(shannon_entropy_v3(pmf))\n",
    "print(shannon_entropy_v4(pmf))"
   ]
  },
  {
   "cell_type": "markdown",
   "metadata": {},
   "source": [
    "## <font color=blue>1.2 profiler，更详细的代码见笔记本linshi_env</font> "
   ]
  },
  {
   "cell_type": "code",
   "execution_count": null,
   "metadata": {},
   "outputs": [],
   "source": [
    "from line_profiler import LineProfiler\n",
    "import random\n",
    "\n",
    "def do_stuff(numbers):\n",
    "    s = sum(numbers)\n",
    "    l = [numbers[i]/43 for i in range(len(numbers))]\n",
    "    m = ['hello'+str(numbers[i]) for i in range(len(numbers))]\n",
    "    return m    \n",
    "\n",
    "\n",
    "\n",
    "numbers = [i for i in range(10000)]\n",
    "lp = LineProfiler()\n",
    "lp_wrapper = lp(do_stuff)\n",
    "lp_wrapper(numbers)\n",
    "lp.print_stats()"
   ]
  },
  {
   "cell_type": "code",
   "execution_count": null,
   "metadata": {},
   "outputs": [],
   "source": [
    "%%timeit\n",
    "do_stuff(numbers)"
   ]
  },
  {
   "cell_type": "code",
   "execution_count": null,
   "metadata": {},
   "outputs": [],
   "source": [
    "import cProfile\n",
    "import re\n",
    "cProfile.run('re.compile(\"foo|bar\")')"
   ]
  },
  {
   "cell_type": "markdown",
   "metadata": {},
   "source": [
    "## <font color=blue>1.3 cython与c的连接，见connect_c文件夹</font> "
   ]
  },
  {
   "cell_type": "markdown",
   "metadata": {},
   "source": [
    "## <font color=blue>1.4 并行-ray的语法，见ray文件夹</font> "
   ]
  },
  {
   "cell_type": "markdown",
   "metadata": {},
   "source": [
    "## <font color=blue>1.5 openmp的语法【unfix】</font> "
   ]
  },
  {
   "cell_type": "markdown",
   "metadata": {},
   "source": [
    "## <font color=blue>1.6 eigen的语法【unfix】</font> "
   ]
  },
  {
   "cell_type": "markdown",
   "metadata": {},
   "source": [
    "## <font color=blue>1.7 onetbb的语法【unfix】</font> "
   ]
  },
  {
   "cell_type": "markdown",
   "metadata": {},
   "source": [
    "## <font color=blue>1.8 dataframe <=> cnumpy.ndarray</font> "
   ]
  },
  {
   "cell_type": "code",
   "execution_count": null,
   "metadata": {},
   "outputs": [],
   "source": [
    "%%cython\n",
    "\n",
    "import numpy as np\n",
    "cimport numpy as cnp\n",
    "import pandas as pd\n",
    "\n",
    "\n",
    "data_dict = {}\n",
    "data_dict[\"x\"] = [1,2,3]\n",
    "data_dict[\"y\"] = [11,12,13]\n",
    "\n",
    "data_df = pd.DataFrame(data=data_dict)\n",
    "print(data_df)\n",
    "print(data_df.values)\n",
    "\n",
    "cdef int[:,:] aaa = data_df.values"
   ]
  },
  {
   "cell_type": "code",
   "execution_count": 5,
   "metadata": {},
   "outputs": [],
   "source": [
    "aaa = [1,2,3]\n",
    "bbb = data_df.values"
   ]
  },
  {
   "cell_type": "code",
   "execution_count": 7,
   "metadata": {},
   "outputs": [
    {
     "data": {
      "text/plain": [
       "array([ 1, 11])"
      ]
     },
     "execution_count": 7,
     "metadata": {},
     "output_type": "execute_result"
    }
   ],
   "source": [
    "bbb[0]"
   ]
  },
  {
   "cell_type": "code",
   "execution_count": 7,
   "metadata": {},
   "outputs": [],
   "source": [
    "%%cython\n",
    "cimport numpy as cnp\n",
    "cdef cnp.ndarray ccc;"
   ]
  }
 ],
 "metadata": {
  "kernelspec": {
   "display_name": "python37",
   "language": "python",
   "name": "python37"
  },
  "language_info": {
   "codemirror_mode": {
    "name": "ipython",
    "version": 3
   },
   "file_extension": ".py",
   "mimetype": "text/x-python",
   "name": "python",
   "nbconvert_exporter": "python",
   "pygments_lexer": "ipython3",
   "version": "3.7.9"
  }
 },
 "nbformat": 4,
 "nbformat_minor": 4
}
