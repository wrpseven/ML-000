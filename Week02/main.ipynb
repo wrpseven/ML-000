{
 "cells": [
  {
   "cell_type": "code",
   "execution_count": 4,
   "metadata": {},
   "outputs": [],
   "source": [
    "%load_ext cython\n",
    "import numpy as np\n",
    "import pandas as pd\n",
    "from collections import defaultdict"
   ]
  },
  {
   "cell_type": "code",
   "execution_count": 5,
   "metadata": {},
   "outputs": [],
   "source": [
    "##参数定义\n",
    "y = np.random.randint(2, size=(500, 1))\n",
    "x = np.random.randint(10, size=(500, 1))\n",
    "data = pd.DataFrame(np.concatenate([y, x], axis=1), columns=['y', 'x'])  "
   ]
  },
  {
   "cell_type": "code",
   "execution_count": 6,
   "metadata": {},
   "outputs": [],
   "source": [
    "def target_mean_v1(data, y_name, x_name):\n",
    "    result = np.zeros(data.shape[0])\n",
    "    for i in range(data.shape[0]):\n",
    "        groupby_result = data[data.index != i].groupby([x_name], as_index=False).agg(['mean', 'count'])\n",
    "        result[i] = groupby_result.loc[groupby_result.index == data.loc[i, x_name], (y_name, 'mean')]\n",
    "    return result"
   ]
  },
  {
   "cell_type": "code",
   "execution_count": 7,
   "metadata": {},
   "outputs": [],
   "source": [
    "def target_mean_v4(data, y_name, x_name):\n",
    "    n = data.shape[0]\n",
    "    X = data[x_name].values\n",
    "    Y = data[y_name].values\n",
    "\n",
    "    value_dict = defaultdict(lambda:0)\n",
    "    count_dict = defaultdict(lambda:0)\n",
    "\n",
    "    for x,y in zip(X,Y):\n",
    "        value_dict[x] += y\n",
    "        count_dict[x] += 1\n",
    "    result = [(value_dict[x]-y)/(count_dict[x]-1) for x,y in zip(X,Y)]\n",
    "    return result"
   ]
  },
  {
   "cell_type": "code",
   "execution_count": 17,
   "metadata": {},
   "outputs": [],
   "source": [
    "%%cython --cplus \n",
    "import numpy as np\n",
    "cimport numpy as np\n",
    "import pandas as pd\n",
    "from libcpp.unordered_map cimport unordered_map\n",
    "cimport cython\n",
    "from libcpp.map cimport map\n",
    "\n",
    "\n",
    "@cython.boundscheck(False)\n",
    "@cython.wraparound(False)\n",
    "cpdef target_mean_v7(long[:,:] data, int y, int x, int nrow, int ncol):\n",
    "  cdef long[:,:] data_c=data\n",
    "  cdef int i=0\n",
    "  cdef int start=0\n",
    "  cdef int shape=nrow\n",
    "  cdef int step=1\n",
    "  \n",
    "  cdef int unique_cnt = 10  ##modify，设定为10类\n",
    "  cdef double[:] result_c = np.zeros(shape)\n",
    "  cdef double[:] m_value=np.zeros(unique_cnt)\n",
    "  cdef double[:] m_count=np.zeros(unique_cnt) \n",
    "\n",
    "\n",
    "  for i from start <= i < shape by step:\n",
    "    m_value[data_c[i, x]] += data_c[i,y]\n",
    "    m_count[data_c[i, x]] += 1\n",
    "    \n",
    "\n",
    "  for i from start <= i < shape by step:\n",
    "    result_c[i] = (m_value[data_c[i, x]] - data_c[i, y]) / (m_count[data_c[i, x]] - 1)\n",
    "  \n",
    "  return result_c"
   ]
  },
  {
   "cell_type": "code",
   "execution_count": 9,
   "metadata": {},
   "outputs": [],
   "source": [
    "%%cython --cplus \n",
    "import numpy as np\n",
    "cimport numpy as c_np\n",
    "cimport cython\n",
    "\n",
    "\n",
    "@cython.boundscheck(False)\n",
    "@cython.wraparound(False)\n",
    "@cython.cdivision(True)\n",
    "@cython.initializedcheck(False)\n",
    "@cython.overflowcheck(False)\n",
    "@cython.binding(False)\n",
    "cpdef target_mean_v8(data, str y_name, str x_name):\n",
    "  cdef:\n",
    "    int nrow    = data.shape[0]\n",
    "    c_np.ndarray[double] output = np.empty(nrow)\n",
    "    int step = 1\n",
    "    int cnt[10]\n",
    "    double val[10]\n",
    "    long [:] X = data[x_name].values\n",
    "    long [:] Y = data[y_name].values\n",
    "    double[:] result   = output\n",
    "    int i \n",
    "    long x\n",
    "    long y\n",
    "\n",
    "  for i from 0 <= i < 10 by step:\n",
    "    cnt[i] = 0\n",
    "    val[i] = 0\n",
    "  \n",
    "  for i from 0 <= i < nrow by step:\n",
    "    x = X[i]\n",
    "    y = Y[i]\n",
    "    val[x] += y\n",
    "    cnt[x] += 1\n",
    "  \n",
    "  for i from 0 <= i < nrow by step:\n",
    "    x = X[i]\n",
    "    y = Y[i]\n",
    "    result[i] = (val[x]-y)/(cnt[x]-1)\n",
    "\n",
    "  return output\n"
   ]
  },
  {
   "cell_type": "code",
   "execution_count": 10,
   "metadata": {},
   "outputs": [],
   "source": [
    "%%cython --cplus  --compile-args=-fopenmp  --link-args=-fopenmp\n",
    "import numpy as np\n",
    "cimport numpy as np\n",
    "import pandas as pd\n",
    "from libcpp.unordered_map cimport unordered_map\n",
    "from libcpp.vector cimport vector\n",
    "from libcpp.map cimport map\n",
    "import cython\n",
    "cimport cython\n",
    "from cython.parallel cimport prange,parallel\n",
    "\n",
    "@cython.boundscheck(False)\n",
    "@cython.wraparound(False)\n",
    "cpdef target_mean_v9(data,y,x):\n",
    "\n",
    "  cdef long[:] data_x=data[x].values\n",
    "  cdef long[:] data_y=data[y].values\n",
    "  cdef int i=0\n",
    "  cdef int start=0\n",
    "  cdef int shape=data_x.shape[0]\n",
    "  cdef int step=1\n",
    "\n",
    "  cdef double[:] m_value=np.zeros(10)\n",
    "  cdef double[:] m_count=np.zeros(10)  \n",
    "  cdef double[:] result_c = np.zeros(shape)\n",
    "\n",
    "\n",
    "  for i from start <= i < shape by step:\n",
    "      m_value[data_x[i]] += data_y[i]\n",
    "      m_count[data_x[i]] += 1\n",
    "        \n",
    "  for i in prange(shape,nogil=True,schedule='static'): #此处并行\n",
    "    result_c[i]=(m_value[data_x[i]] - data_y[i]) / (m_count[data_x[i]] - 1)\n",
    "  return result_c"
   ]
  },
  {
   "cell_type": "code",
   "execution_count": null,
   "metadata": {},
   "outputs": [],
   "source": [
    " "
   ]
  },
  {
   "cell_type": "code",
   "execution_count": 11,
   "metadata": {},
   "outputs": [
    {
     "name": "stdout",
     "output_type": "stream",
     "text": [
      "diff14== 0.0\n",
      "diff17== 0.0\n",
      "diff18== 0.0\n",
      "diff19== 0.0\n"
     ]
    }
   ],
   "source": [
    "if __name__ == \"__main__\": \n",
    "    result_1 = target_mean_v1(data,'y','x')\n",
    "    result_4 = target_mean_v4(data,'y','x')\n",
    "    result_7 = target_mean_v7(data.values,0,1,data.shape[0],data.shape[1])\n",
    "    result_8 = target_mean_v8(data,'y','x')\n",
    "    result_9 = target_mean_v9(data,'y','x')\n",
    "    diff14   = np.linalg.norm(result_1 - result_4)\n",
    "    diff17   = np.linalg.norm(result_1 - result_7)\n",
    "    diff18   = np.linalg.norm(result_1 - result_8)\n",
    "    diff19   = np.linalg.norm(result_1 - result_9) \n",
    "    print(\"diff14==\",diff14)\n",
    "    print(\"diff17==\",diff17) \n",
    "    print(\"diff18==\",diff18)  \n",
    "    print(\"diff19==\",diff19) "
   ]
  },
  {
   "cell_type": "code",
   "execution_count": 12,
   "metadata": {},
   "outputs": [
    {
     "name": "stdout",
     "output_type": "stream",
     "text": [
      "1.49 s ± 183 ms per loop (mean ± std. dev. of 7 runs, 1 loop each)\n"
     ]
    }
   ],
   "source": [
    "%%timeit\n",
    "target_mean_v1(data,'y','x')"
   ]
  },
  {
   "cell_type": "code",
   "execution_count": 13,
   "metadata": {},
   "outputs": [
    {
     "name": "stdout",
     "output_type": "stream",
     "text": [
      "519 µs ± 5.07 µs per loop (mean ± std. dev. of 7 runs, 1000 loops each)\n"
     ]
    }
   ],
   "source": [
    "%%timeit\n",
    "target_mean_v4(data,'y','x')"
   ]
  },
  {
   "cell_type": "code",
   "execution_count": 18,
   "metadata": {},
   "outputs": [
    {
     "name": "stdout",
     "output_type": "stream",
     "text": [
      "12.7 µs ± 187 ns per loop (mean ± std. dev. of 7 runs, 100000 loops each)\n"
     ]
    }
   ],
   "source": [
    "%%timeit\n",
    "target_mean_v7(data.values,0,1,data.shape[0],data.shape[1])"
   ]
  },
  {
   "cell_type": "code",
   "execution_count": 19,
   "metadata": {},
   "outputs": [
    {
     "name": "stdout",
     "output_type": "stream",
     "text": [
      "9.63 µs ± 92.9 ns per loop (mean ± std. dev. of 7 runs, 100000 loops each)\n"
     ]
    }
   ],
   "source": [
    "%%timeit\n",
    "target_mean_v8(data, 'y', 'x')"
   ]
  },
  {
   "cell_type": "code",
   "execution_count": 16,
   "metadata": {},
   "outputs": [
    {
     "name": "stdout",
     "output_type": "stream",
     "text": [
      "155 µs ± 4.01 µs per loop (mean ± std. dev. of 7 runs, 10000 loops each)\n"
     ]
    }
   ],
   "source": [
    "%%timeit\n",
    "target_mean_v9(data, 'y', 'x')"
   ]
  },
  {
   "cell_type": "code",
   "execution_count": null,
   "metadata": {},
   "outputs": [],
   "source": []
  },
  {
   "cell_type": "code",
   "execution_count": null,
   "metadata": {},
   "outputs": [],
   "source": []
  }
 ],
 "metadata": {
  "kernelspec": {
   "display_name": "python37",
   "language": "python",
   "name": "python37"
  },
  "language_info": {
   "codemirror_mode": {
    "name": "ipython",
    "version": 3
   },
   "file_extension": ".py",
   "mimetype": "text/x-python",
   "name": "python",
   "nbconvert_exporter": "python",
   "pygments_lexer": "ipython3",
   "version": "3.7.9"
  }
 },
 "nbformat": 4,
 "nbformat_minor": 4
}
